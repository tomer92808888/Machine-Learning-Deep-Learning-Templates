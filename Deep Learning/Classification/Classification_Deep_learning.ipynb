{
  "nbformat": 4,
  "nbformat_minor": 0,
  "metadata": {
    "colab": {
      "name": "Classification Deep learning",
      "provenance": [],
      "collapsed_sections": []
    },
    "kernelspec": {
      "name": "python3",
      "display_name": "Python 3"
    }
  },
  "cells": [
    {
      "cell_type": "code",
      "metadata": {
        "id": "Mr2TzuRca1cn"
      },
      "source": [
        "import tensorflow as tf"
      ],
      "execution_count": 1,
      "outputs": []
    },
    {
      "cell_type": "code",
      "metadata": {
        "id": "ml9kQJe8bLyb"
      },
      "source": [
        "# Load in the data\r\n",
        "from sklearn.datasets import load_breast_cancer\r\n",
        "\r\n",
        "# Load the data\r\n",
        "\r\n",
        "df = load_breast_cancer()"
      ],
      "execution_count": 3,
      "outputs": []
    },
    {
      "cell_type": "code",
      "metadata": {
        "colab": {
          "base_uri": "https://localhost:8080/"
        },
        "id": "lV-JvyIDbrep",
        "outputId": "34ced0a8-9873-4f55-fee2-2d73cc816a77"
      },
      "source": [
        "# Check the typical 'data'\r\n",
        "type(df)"
      ],
      "execution_count": 6,
      "outputs": [
        {
          "output_type": "execute_result",
          "data": {
            "text/plain": [
              "sklearn.utils.Bunch"
            ]
          },
          "metadata": {
            "tags": []
          },
          "execution_count": 6
        }
      ]
    },
    {
      "cell_type": "code",
      "metadata": {
        "colab": {
          "base_uri": "https://localhost:8080/"
        },
        "id": "3yf9z1pcb0QS",
        "outputId": "0dc5b321-afc2-4aab-9532-3d5bf1826fcd"
      },
      "source": [
        "df.keys()"
      ],
      "execution_count": 9,
      "outputs": [
        {
          "output_type": "execute_result",
          "data": {
            "text/plain": [
              "dict_keys(['data', 'target', 'target_names', 'DESCR', 'feature_names', 'filename'])"
            ]
          },
          "metadata": {
            "tags": []
          },
          "execution_count": 9
        }
      ]
    },
    {
      "cell_type": "code",
      "metadata": {
        "colab": {
          "base_uri": "https://localhost:8080/"
        },
        "id": "WtmBEhBhb8KN",
        "outputId": "dcefd12f-98fb-46d2-d299-e1ef3b750b67"
      },
      "source": [
        "df.data.shape"
      ],
      "execution_count": 10,
      "outputs": [
        {
          "output_type": "execute_result",
          "data": {
            "text/plain": [
              "(569, 30)"
            ]
          },
          "metadata": {
            "tags": []
          },
          "execution_count": 10
        }
      ]
    },
    {
      "cell_type": "code",
      "metadata": {
        "colab": {
          "base_uri": "https://localhost:8080/"
        },
        "id": "rlIGuL34cGPJ",
        "outputId": "ac90add2-8ef9-4fc7-b9fe-ea1d81ebd330"
      },
      "source": [
        "df.target"
      ],
      "execution_count": 11,
      "outputs": [
        {
          "output_type": "execute_result",
          "data": {
            "text/plain": [
              "array([0, 0, 0, 0, 0, 0, 0, 0, 0, 0, 0, 0, 0, 0, 0, 0, 0, 0, 0, 1, 1, 1,\n",
              "       0, 0, 0, 0, 0, 0, 0, 0, 0, 0, 0, 0, 0, 0, 0, 1, 0, 0, 0, 0, 0, 0,\n",
              "       0, 0, 1, 0, 1, 1, 1, 1, 1, 0, 0, 1, 0, 0, 1, 1, 1, 1, 0, 1, 0, 0,\n",
              "       1, 1, 1, 1, 0, 1, 0, 0, 1, 0, 1, 0, 0, 1, 1, 1, 0, 0, 1, 0, 0, 0,\n",
              "       1, 1, 1, 0, 1, 1, 0, 0, 1, 1, 1, 0, 0, 1, 1, 1, 1, 0, 1, 1, 0, 1,\n",
              "       1, 1, 1, 1, 1, 1, 1, 0, 0, 0, 1, 0, 0, 1, 1, 1, 0, 0, 1, 0, 1, 0,\n",
              "       0, 1, 0, 0, 1, 1, 0, 1, 1, 0, 1, 1, 1, 1, 0, 1, 1, 1, 1, 1, 1, 1,\n",
              "       1, 1, 0, 1, 1, 1, 1, 0, 0, 1, 0, 1, 1, 0, 0, 1, 1, 0, 0, 1, 1, 1,\n",
              "       1, 0, 1, 1, 0, 0, 0, 1, 0, 1, 0, 1, 1, 1, 0, 1, 1, 0, 0, 1, 0, 0,\n",
              "       0, 0, 1, 0, 0, 0, 1, 0, 1, 0, 1, 1, 0, 1, 0, 0, 0, 0, 1, 1, 0, 0,\n",
              "       1, 1, 1, 0, 1, 1, 1, 1, 1, 0, 0, 1, 1, 0, 1, 1, 0, 0, 1, 0, 1, 1,\n",
              "       1, 1, 0, 1, 1, 1, 1, 1, 0, 1, 0, 0, 0, 0, 0, 0, 0, 0, 0, 0, 0, 0,\n",
              "       0, 0, 1, 1, 1, 1, 1, 1, 0, 1, 0, 1, 1, 0, 1, 1, 0, 1, 0, 0, 1, 1,\n",
              "       1, 1, 1, 1, 1, 1, 1, 1, 1, 1, 1, 0, 1, 1, 0, 1, 0, 1, 1, 1, 1, 1,\n",
              "       1, 1, 1, 1, 1, 1, 1, 1, 1, 0, 1, 1, 1, 0, 1, 0, 1, 1, 1, 1, 0, 0,\n",
              "       0, 1, 1, 1, 1, 0, 1, 0, 1, 0, 1, 1, 1, 0, 1, 1, 1, 1, 1, 1, 1, 0,\n",
              "       0, 0, 1, 1, 1, 1, 1, 1, 1, 1, 1, 1, 1, 0, 0, 1, 0, 0, 0, 1, 0, 0,\n",
              "       1, 1, 1, 1, 1, 0, 1, 1, 1, 1, 1, 0, 1, 1, 1, 0, 1, 1, 0, 0, 1, 1,\n",
              "       1, 1, 1, 1, 0, 1, 1, 1, 1, 1, 1, 1, 0, 1, 1, 1, 1, 1, 0, 1, 1, 0,\n",
              "       1, 1, 1, 1, 1, 1, 1, 1, 1, 1, 1, 1, 0, 1, 0, 0, 1, 0, 1, 1, 1, 1,\n",
              "       1, 0, 1, 1, 0, 1, 0, 1, 1, 0, 1, 0, 1, 1, 1, 1, 1, 1, 1, 1, 0, 0,\n",
              "       1, 1, 1, 1, 1, 1, 0, 1, 1, 1, 1, 1, 1, 1, 1, 1, 1, 0, 1, 1, 1, 1,\n",
              "       1, 1, 1, 0, 1, 0, 1, 1, 0, 1, 1, 1, 1, 1, 0, 0, 1, 0, 1, 0, 1, 1,\n",
              "       1, 1, 1, 0, 1, 1, 0, 1, 0, 1, 0, 0, 1, 1, 1, 0, 1, 1, 1, 1, 1, 1,\n",
              "       1, 1, 1, 1, 1, 0, 1, 0, 0, 1, 1, 1, 1, 1, 1, 1, 1, 1, 1, 1, 1, 1,\n",
              "       1, 1, 1, 1, 1, 1, 1, 1, 1, 1, 1, 1, 0, 0, 0, 0, 0, 0, 1])"
            ]
          },
          "metadata": {
            "tags": []
          },
          "execution_count": 11
        }
      ]
    },
    {
      "cell_type": "code",
      "metadata": {
        "colab": {
          "base_uri": "https://localhost:8080/"
        },
        "id": "U8CFt00scIUR",
        "outputId": "16b72510-e19e-4b84-88d6-b6370b7fd071"
      },
      "source": [
        "df.target_names"
      ],
      "execution_count": 13,
      "outputs": [
        {
          "output_type": "execute_result",
          "data": {
            "text/plain": [
              "array(['malignant', 'benign'], dtype='<U9')"
            ]
          },
          "metadata": {
            "tags": []
          },
          "execution_count": 13
        }
      ]
    },
    {
      "cell_type": "code",
      "metadata": {
        "colab": {
          "base_uri": "https://localhost:8080/"
        },
        "id": "VArb66bMcO-S",
        "outputId": "9060652c-5553-40f5-b7bc-0ac7553aa4bf"
      },
      "source": [
        "df.target.shape"
      ],
      "execution_count": 14,
      "outputs": [
        {
          "output_type": "execute_result",
          "data": {
            "text/plain": [
              "(569,)"
            ]
          },
          "metadata": {
            "tags": []
          },
          "execution_count": 14
        }
      ]
    },
    {
      "cell_type": "code",
      "metadata": {
        "colab": {
          "base_uri": "https://localhost:8080/"
        },
        "id": "GifAG4fzcUap",
        "outputId": "8b0646b3-234b-4796-bdd5-99ad923c9885"
      },
      "source": [
        "df.feature_names"
      ],
      "execution_count": 15,
      "outputs": [
        {
          "output_type": "execute_result",
          "data": {
            "text/plain": [
              "array(['mean radius', 'mean texture', 'mean perimeter', 'mean area',\n",
              "       'mean smoothness', 'mean compactness', 'mean concavity',\n",
              "       'mean concave points', 'mean symmetry', 'mean fractal dimension',\n",
              "       'radius error', 'texture error', 'perimeter error', 'area error',\n",
              "       'smoothness error', 'compactness error', 'concavity error',\n",
              "       'concave points error', 'symmetry error',\n",
              "       'fractal dimension error', 'worst radius', 'worst texture',\n",
              "       'worst perimeter', 'worst area', 'worst smoothness',\n",
              "       'worst compactness', 'worst concavity', 'worst concave points',\n",
              "       'worst symmetry', 'worst fractal dimension'], dtype='<U23')"
            ]
          },
          "metadata": {
            "tags": []
          },
          "execution_count": 15
        }
      ]
    },
    {
      "cell_type": "code",
      "metadata": {
        "id": "21-eemwRcW3I"
      },
      "source": [
        "# Split the data into train and test sets\r\n",
        "from sklearn.model_selection import train_test_split\r\n",
        "X_train, X_test, y_train, y_test = train_test_split(df.data, df.target, test_size=0.33)\r\n",
        "N, D = X_train.shape"
      ],
      "execution_count": 16,
      "outputs": []
    },
    {
      "cell_type": "code",
      "metadata": {
        "id": "OZTT0GFEc49f"
      },
      "source": [
        "# Scale the data\r\n",
        "from sklearn.preprocessing import StandardScaler\r\n",
        "scaler = StandardScaler()\r\n",
        "X_train = scaler.fit_transform(X_train)\r\n",
        "X_test = scaler.transform(X_test)"
      ],
      "execution_count": 17,
      "outputs": []
    },
    {
      "cell_type": "code",
      "metadata": {
        "colab": {
          "base_uri": "https://localhost:8080/"
        },
        "id": "QOAwYZxmdIcI",
        "outputId": "b5032d9b-654b-4d00-9a66-4e42a4605eab"
      },
      "source": [
        "# Build the model\r\n",
        "model = tf.keras.models.Sequential([\r\n",
        "                                   tf.keras.layers.Input(shape = (D,)),\r\n",
        "                                   tf.keras.layers.Dense(1, activation = 'sigmoid')\r\n",
        "])\r\n",
        "\r\n",
        "model.compile(optimizer = 'adam',\r\n",
        "              loss = 'binary_crossentropy',\r\n",
        "              metrics = ['accuracy'])\r\n",
        "\r\n",
        "# Train the model\r\n",
        "r = model.fit(X_train, y_train, validation_data = (X_test, y_test), epochs = 100)\r\n",
        "\r\n",
        "# Evaluate the model\r\n",
        "print(\"Train scores:\", model.evaluate(X_train, y_train))\r\n",
        "print(\"Test scores:\", model.evaluate(X_test, y_test))"
      ],
      "execution_count": 23,
      "outputs": [
        {
          "output_type": "stream",
          "text": [
            "Epoch 1/100\n",
            "12/12 [==============================] - 1s 17ms/step - loss: 1.1030 - accuracy: 0.4424 - val_loss: 0.9923 - val_accuracy: 0.4840\n",
            "Epoch 2/100\n",
            "12/12 [==============================] - 0s 5ms/step - loss: 1.0206 - accuracy: 0.4569 - val_loss: 0.9123 - val_accuracy: 0.4947\n",
            "Epoch 3/100\n",
            "12/12 [==============================] - 0s 5ms/step - loss: 0.9472 - accuracy: 0.5249 - val_loss: 0.8397 - val_accuracy: 0.5372\n",
            "Epoch 4/100\n",
            "12/12 [==============================] - 0s 5ms/step - loss: 0.8818 - accuracy: 0.5588 - val_loss: 0.7752 - val_accuracy: 0.5479\n",
            "Epoch 5/100\n",
            "12/12 [==============================] - 0s 5ms/step - loss: 0.7599 - accuracy: 0.6170 - val_loss: 0.7192 - val_accuracy: 0.5691\n",
            "Epoch 6/100\n",
            "12/12 [==============================] - 0s 5ms/step - loss: 0.7221 - accuracy: 0.6500 - val_loss: 0.6681 - val_accuracy: 0.6223\n",
            "Epoch 7/100\n",
            "12/12 [==============================] - 0s 6ms/step - loss: 0.6261 - accuracy: 0.6862 - val_loss: 0.6241 - val_accuracy: 0.6383\n",
            "Epoch 8/100\n",
            "12/12 [==============================] - 0s 5ms/step - loss: 0.6525 - accuracy: 0.7047 - val_loss: 0.5844 - val_accuracy: 0.6755\n",
            "Epoch 9/100\n",
            "12/12 [==============================] - 0s 5ms/step - loss: 0.5726 - accuracy: 0.7352 - val_loss: 0.5494 - val_accuracy: 0.7234\n",
            "Epoch 10/100\n",
            "12/12 [==============================] - 0s 6ms/step - loss: 0.5365 - accuracy: 0.7727 - val_loss: 0.5184 - val_accuracy: 0.7394\n",
            "Epoch 11/100\n",
            "12/12 [==============================] - 0s 5ms/step - loss: 0.5231 - accuracy: 0.7470 - val_loss: 0.4914 - val_accuracy: 0.7500\n",
            "Epoch 12/100\n",
            "12/12 [==============================] - 0s 6ms/step - loss: 0.4752 - accuracy: 0.7942 - val_loss: 0.4668 - val_accuracy: 0.7766\n",
            "Epoch 13/100\n",
            "12/12 [==============================] - 0s 5ms/step - loss: 0.4599 - accuracy: 0.8289 - val_loss: 0.4451 - val_accuracy: 0.7926\n",
            "Epoch 14/100\n",
            "12/12 [==============================] - 0s 5ms/step - loss: 0.4298 - accuracy: 0.8358 - val_loss: 0.4259 - val_accuracy: 0.8085\n",
            "Epoch 15/100\n",
            "12/12 [==============================] - 0s 5ms/step - loss: 0.3953 - accuracy: 0.8433 - val_loss: 0.4084 - val_accuracy: 0.8085\n",
            "Epoch 16/100\n",
            "12/12 [==============================] - 0s 5ms/step - loss: 0.4463 - accuracy: 0.8005 - val_loss: 0.3930 - val_accuracy: 0.8404\n",
            "Epoch 17/100\n",
            "12/12 [==============================] - 0s 6ms/step - loss: 0.3722 - accuracy: 0.8625 - val_loss: 0.3786 - val_accuracy: 0.8404\n",
            "Epoch 18/100\n",
            "12/12 [==============================] - 0s 6ms/step - loss: 0.3476 - accuracy: 0.8668 - val_loss: 0.3661 - val_accuracy: 0.8457\n",
            "Epoch 19/100\n",
            "12/12 [==============================] - 0s 5ms/step - loss: 0.3466 - accuracy: 0.8542 - val_loss: 0.3543 - val_accuracy: 0.8564\n",
            "Epoch 20/100\n",
            "12/12 [==============================] - 0s 5ms/step - loss: 0.3437 - accuracy: 0.8793 - val_loss: 0.3435 - val_accuracy: 0.8564\n",
            "Epoch 21/100\n",
            "12/12 [==============================] - 0s 5ms/step - loss: 0.2758 - accuracy: 0.9027 - val_loss: 0.3339 - val_accuracy: 0.8617\n",
            "Epoch 22/100\n",
            "12/12 [==============================] - 0s 6ms/step - loss: 0.3257 - accuracy: 0.8544 - val_loss: 0.3245 - val_accuracy: 0.8617\n",
            "Epoch 23/100\n",
            "12/12 [==============================] - 0s 20ms/step - loss: 0.3189 - accuracy: 0.8884 - val_loss: 0.3157 - val_accuracy: 0.8723\n",
            "Epoch 24/100\n",
            "12/12 [==============================] - 0s 6ms/step - loss: 0.2715 - accuracy: 0.9062 - val_loss: 0.3081 - val_accuracy: 0.8723\n",
            "Epoch 25/100\n",
            "12/12 [==============================] - 0s 5ms/step - loss: 0.2959 - accuracy: 0.9027 - val_loss: 0.3010 - val_accuracy: 0.8723\n",
            "Epoch 26/100\n",
            "12/12 [==============================] - 0s 5ms/step - loss: 0.3069 - accuracy: 0.8888 - val_loss: 0.2940 - val_accuracy: 0.8723\n",
            "Epoch 27/100\n",
            "12/12 [==============================] - 0s 5ms/step - loss: 0.2560 - accuracy: 0.9179 - val_loss: 0.2877 - val_accuracy: 0.8777\n",
            "Epoch 28/100\n",
            "12/12 [==============================] - 0s 5ms/step - loss: 0.2352 - accuracy: 0.9226 - val_loss: 0.2816 - val_accuracy: 0.8777\n",
            "Epoch 29/100\n",
            "12/12 [==============================] - 0s 5ms/step - loss: 0.2412 - accuracy: 0.9096 - val_loss: 0.2759 - val_accuracy: 0.8777\n",
            "Epoch 30/100\n",
            "12/12 [==============================] - 0s 6ms/step - loss: 0.2357 - accuracy: 0.9153 - val_loss: 0.2703 - val_accuracy: 0.8777\n",
            "Epoch 31/100\n",
            "12/12 [==============================] - 0s 6ms/step - loss: 0.2612 - accuracy: 0.9034 - val_loss: 0.2654 - val_accuracy: 0.8777\n",
            "Epoch 32/100\n",
            "12/12 [==============================] - 0s 6ms/step - loss: 0.2460 - accuracy: 0.9004 - val_loss: 0.2606 - val_accuracy: 0.8830\n",
            "Epoch 33/100\n",
            "12/12 [==============================] - 0s 6ms/step - loss: 0.2435 - accuracy: 0.9173 - val_loss: 0.2559 - val_accuracy: 0.8936\n",
            "Epoch 34/100\n",
            "12/12 [==============================] - 0s 5ms/step - loss: 0.2108 - accuracy: 0.9280 - val_loss: 0.2515 - val_accuracy: 0.8936\n",
            "Epoch 35/100\n",
            "12/12 [==============================] - 0s 6ms/step - loss: 0.2057 - accuracy: 0.9260 - val_loss: 0.2474 - val_accuracy: 0.8936\n",
            "Epoch 36/100\n",
            "12/12 [==============================] - 0s 5ms/step - loss: 0.2252 - accuracy: 0.9088 - val_loss: 0.2434 - val_accuracy: 0.8989\n",
            "Epoch 37/100\n",
            "12/12 [==============================] - 0s 6ms/step - loss: 0.1844 - accuracy: 0.9283 - val_loss: 0.2397 - val_accuracy: 0.9043\n",
            "Epoch 38/100\n",
            "12/12 [==============================] - 0s 5ms/step - loss: 0.2086 - accuracy: 0.9197 - val_loss: 0.2358 - val_accuracy: 0.9043\n",
            "Epoch 39/100\n",
            "12/12 [==============================] - 0s 5ms/step - loss: 0.2021 - accuracy: 0.9089 - val_loss: 0.2325 - val_accuracy: 0.9043\n",
            "Epoch 40/100\n",
            "12/12 [==============================] - 0s 5ms/step - loss: 0.1916 - accuracy: 0.9246 - val_loss: 0.2292 - val_accuracy: 0.9096\n",
            "Epoch 41/100\n",
            "12/12 [==============================] - 0s 5ms/step - loss: 0.2110 - accuracy: 0.9175 - val_loss: 0.2257 - val_accuracy: 0.9096\n",
            "Epoch 42/100\n",
            "12/12 [==============================] - 0s 5ms/step - loss: 0.1919 - accuracy: 0.9313 - val_loss: 0.2226 - val_accuracy: 0.9149\n",
            "Epoch 43/100\n",
            "12/12 [==============================] - 0s 5ms/step - loss: 0.2086 - accuracy: 0.9228 - val_loss: 0.2195 - val_accuracy: 0.9149\n",
            "Epoch 44/100\n",
            "12/12 [==============================] - 0s 5ms/step - loss: 0.1739 - accuracy: 0.9406 - val_loss: 0.2169 - val_accuracy: 0.9202\n",
            "Epoch 45/100\n",
            "12/12 [==============================] - 0s 6ms/step - loss: 0.1843 - accuracy: 0.9285 - val_loss: 0.2141 - val_accuracy: 0.9255\n",
            "Epoch 46/100\n",
            "12/12 [==============================] - 0s 5ms/step - loss: 0.1549 - accuracy: 0.9467 - val_loss: 0.2114 - val_accuracy: 0.9255\n",
            "Epoch 47/100\n",
            "12/12 [==============================] - 0s 5ms/step - loss: 0.1885 - accuracy: 0.9217 - val_loss: 0.2087 - val_accuracy: 0.9255\n",
            "Epoch 48/100\n",
            "12/12 [==============================] - 0s 5ms/step - loss: 0.1612 - accuracy: 0.9477 - val_loss: 0.2063 - val_accuracy: 0.9255\n",
            "Epoch 49/100\n",
            "12/12 [==============================] - 0s 5ms/step - loss: 0.1561 - accuracy: 0.9486 - val_loss: 0.2042 - val_accuracy: 0.9255\n",
            "Epoch 50/100\n",
            "12/12 [==============================] - 0s 5ms/step - loss: 0.1424 - accuracy: 0.9635 - val_loss: 0.2017 - val_accuracy: 0.9255\n",
            "Epoch 51/100\n",
            "12/12 [==============================] - 0s 6ms/step - loss: 0.1551 - accuracy: 0.9523 - val_loss: 0.1996 - val_accuracy: 0.9255\n",
            "Epoch 52/100\n",
            "12/12 [==============================] - 0s 6ms/step - loss: 0.1701 - accuracy: 0.9459 - val_loss: 0.1973 - val_accuracy: 0.9255\n",
            "Epoch 53/100\n",
            "12/12 [==============================] - 0s 6ms/step - loss: 0.1628 - accuracy: 0.9308 - val_loss: 0.1951 - val_accuracy: 0.9255\n",
            "Epoch 54/100\n",
            "12/12 [==============================] - 0s 5ms/step - loss: 0.1673 - accuracy: 0.9355 - val_loss: 0.1930 - val_accuracy: 0.9309\n",
            "Epoch 55/100\n",
            "12/12 [==============================] - 0s 5ms/step - loss: 0.1282 - accuracy: 0.9655 - val_loss: 0.1912 - val_accuracy: 0.9309\n",
            "Epoch 56/100\n",
            "12/12 [==============================] - 0s 6ms/step - loss: 0.1580 - accuracy: 0.9371 - val_loss: 0.1894 - val_accuracy: 0.9309\n",
            "Epoch 57/100\n",
            "12/12 [==============================] - 0s 5ms/step - loss: 0.1665 - accuracy: 0.9330 - val_loss: 0.1874 - val_accuracy: 0.9309\n",
            "Epoch 58/100\n",
            "12/12 [==============================] - 0s 5ms/step - loss: 0.1431 - accuracy: 0.9384 - val_loss: 0.1857 - val_accuracy: 0.9309\n",
            "Epoch 59/100\n",
            "12/12 [==============================] - 0s 6ms/step - loss: 0.1839 - accuracy: 0.9224 - val_loss: 0.1839 - val_accuracy: 0.9309\n",
            "Epoch 60/100\n",
            "12/12 [==============================] - 0s 6ms/step - loss: 0.1463 - accuracy: 0.9403 - val_loss: 0.1822 - val_accuracy: 0.9309\n",
            "Epoch 61/100\n",
            "12/12 [==============================] - 0s 5ms/step - loss: 0.1379 - accuracy: 0.9491 - val_loss: 0.1805 - val_accuracy: 0.9309\n",
            "Epoch 62/100\n",
            "12/12 [==============================] - 0s 6ms/step - loss: 0.1495 - accuracy: 0.9371 - val_loss: 0.1789 - val_accuracy: 0.9309\n",
            "Epoch 63/100\n",
            "12/12 [==============================] - 0s 6ms/step - loss: 0.1406 - accuracy: 0.9469 - val_loss: 0.1774 - val_accuracy: 0.9309\n",
            "Epoch 64/100\n",
            "12/12 [==============================] - 0s 6ms/step - loss: 0.1310 - accuracy: 0.9463 - val_loss: 0.1759 - val_accuracy: 0.9309\n",
            "Epoch 65/100\n",
            "12/12 [==============================] - 0s 5ms/step - loss: 0.1412 - accuracy: 0.9351 - val_loss: 0.1745 - val_accuracy: 0.9362\n",
            "Epoch 66/100\n",
            "12/12 [==============================] - 0s 5ms/step - loss: 0.1041 - accuracy: 0.9684 - val_loss: 0.1732 - val_accuracy: 0.9362\n",
            "Epoch 67/100\n",
            "12/12 [==============================] - 0s 18ms/step - loss: 0.1346 - accuracy: 0.9524 - val_loss: 0.1717 - val_accuracy: 0.9362\n",
            "Epoch 68/100\n",
            "12/12 [==============================] - 0s 6ms/step - loss: 0.1410 - accuracy: 0.9417 - val_loss: 0.1702 - val_accuracy: 0.9362\n",
            "Epoch 69/100\n",
            "12/12 [==============================] - 0s 5ms/step - loss: 0.1257 - accuracy: 0.9514 - val_loss: 0.1689 - val_accuracy: 0.9362\n",
            "Epoch 70/100\n",
            "12/12 [==============================] - 0s 5ms/step - loss: 0.1302 - accuracy: 0.9435 - val_loss: 0.1676 - val_accuracy: 0.9362\n",
            "Epoch 71/100\n",
            "12/12 [==============================] - 0s 5ms/step - loss: 0.1207 - accuracy: 0.9537 - val_loss: 0.1664 - val_accuracy: 0.9362\n",
            "Epoch 72/100\n",
            "12/12 [==============================] - 0s 6ms/step - loss: 0.1537 - accuracy: 0.9351 - val_loss: 0.1651 - val_accuracy: 0.9362\n",
            "Epoch 73/100\n",
            "12/12 [==============================] - 0s 6ms/step - loss: 0.1257 - accuracy: 0.9447 - val_loss: 0.1639 - val_accuracy: 0.9362\n",
            "Epoch 74/100\n",
            "12/12 [==============================] - 0s 5ms/step - loss: 0.1295 - accuracy: 0.9411 - val_loss: 0.1627 - val_accuracy: 0.9362\n",
            "Epoch 75/100\n",
            "12/12 [==============================] - 0s 5ms/step - loss: 0.1228 - accuracy: 0.9521 - val_loss: 0.1616 - val_accuracy: 0.9362\n",
            "Epoch 76/100\n",
            "12/12 [==============================] - 0s 6ms/step - loss: 0.1323 - accuracy: 0.9420 - val_loss: 0.1604 - val_accuracy: 0.9362\n",
            "Epoch 77/100\n",
            "12/12 [==============================] - 0s 5ms/step - loss: 0.1188 - accuracy: 0.9532 - val_loss: 0.1593 - val_accuracy: 0.9415\n",
            "Epoch 78/100\n",
            "12/12 [==============================] - 0s 5ms/step - loss: 0.1330 - accuracy: 0.9435 - val_loss: 0.1583 - val_accuracy: 0.9415\n",
            "Epoch 79/100\n",
            "12/12 [==============================] - 0s 6ms/step - loss: 0.1293 - accuracy: 0.9544 - val_loss: 0.1572 - val_accuracy: 0.9415\n",
            "Epoch 80/100\n",
            "12/12 [==============================] - 0s 6ms/step - loss: 0.1440 - accuracy: 0.9365 - val_loss: 0.1562 - val_accuracy: 0.9415\n",
            "Epoch 81/100\n",
            "12/12 [==============================] - 0s 5ms/step - loss: 0.1385 - accuracy: 0.9484 - val_loss: 0.1552 - val_accuracy: 0.9415\n",
            "Epoch 82/100\n",
            "12/12 [==============================] - 0s 5ms/step - loss: 0.0984 - accuracy: 0.9651 - val_loss: 0.1543 - val_accuracy: 0.9415\n",
            "Epoch 83/100\n",
            "12/12 [==============================] - 0s 6ms/step - loss: 0.1269 - accuracy: 0.9416 - val_loss: 0.1533 - val_accuracy: 0.9468\n",
            "Epoch 84/100\n",
            "12/12 [==============================] - 0s 5ms/step - loss: 0.1039 - accuracy: 0.9705 - val_loss: 0.1524 - val_accuracy: 0.9468\n",
            "Epoch 85/100\n",
            "12/12 [==============================] - 0s 5ms/step - loss: 0.0865 - accuracy: 0.9747 - val_loss: 0.1515 - val_accuracy: 0.9468\n",
            "Epoch 86/100\n",
            "12/12 [==============================] - 0s 6ms/step - loss: 0.1266 - accuracy: 0.9503 - val_loss: 0.1504 - val_accuracy: 0.9468\n",
            "Epoch 87/100\n",
            "12/12 [==============================] - 0s 7ms/step - loss: 0.1214 - accuracy: 0.9551 - val_loss: 0.1495 - val_accuracy: 0.9468\n",
            "Epoch 88/100\n",
            "12/12 [==============================] - 0s 5ms/step - loss: 0.1061 - accuracy: 0.9593 - val_loss: 0.1487 - val_accuracy: 0.9468\n",
            "Epoch 89/100\n",
            "12/12 [==============================] - 0s 6ms/step - loss: 0.1130 - accuracy: 0.9605 - val_loss: 0.1478 - val_accuracy: 0.9468\n",
            "Epoch 90/100\n",
            "12/12 [==============================] - 0s 6ms/step - loss: 0.1015 - accuracy: 0.9661 - val_loss: 0.1470 - val_accuracy: 0.9468\n",
            "Epoch 91/100\n",
            "12/12 [==============================] - 0s 6ms/step - loss: 0.1083 - accuracy: 0.9585 - val_loss: 0.1463 - val_accuracy: 0.9468\n",
            "Epoch 92/100\n",
            "12/12 [==============================] - 0s 5ms/step - loss: 0.0943 - accuracy: 0.9753 - val_loss: 0.1455 - val_accuracy: 0.9468\n",
            "Epoch 93/100\n",
            "12/12 [==============================] - 0s 6ms/step - loss: 0.1191 - accuracy: 0.9553 - val_loss: 0.1446 - val_accuracy: 0.9468\n",
            "Epoch 94/100\n",
            "12/12 [==============================] - 0s 6ms/step - loss: 0.0938 - accuracy: 0.9726 - val_loss: 0.1438 - val_accuracy: 0.9521\n",
            "Epoch 95/100\n",
            "12/12 [==============================] - 0s 5ms/step - loss: 0.0889 - accuracy: 0.9712 - val_loss: 0.1431 - val_accuracy: 0.9521\n",
            "Epoch 96/100\n",
            "12/12 [==============================] - 0s 6ms/step - loss: 0.1101 - accuracy: 0.9617 - val_loss: 0.1423 - val_accuracy: 0.9521\n",
            "Epoch 97/100\n",
            "12/12 [==============================] - 0s 5ms/step - loss: 0.1140 - accuracy: 0.9595 - val_loss: 0.1416 - val_accuracy: 0.9521\n",
            "Epoch 98/100\n",
            "12/12 [==============================] - 0s 5ms/step - loss: 0.1233 - accuracy: 0.9515 - val_loss: 0.1409 - val_accuracy: 0.9521\n",
            "Epoch 99/100\n",
            "12/12 [==============================] - 0s 5ms/step - loss: 0.1166 - accuracy: 0.9558 - val_loss: 0.1401 - val_accuracy: 0.9521\n",
            "Epoch 100/100\n",
            "12/12 [==============================] - 0s 5ms/step - loss: 0.1074 - accuracy: 0.9598 - val_loss: 0.1395 - val_accuracy: 0.9521\n",
            "12/12 [==============================] - 0s 1ms/step - loss: 0.1023 - accuracy: 0.9633\n",
            "Train scores: [0.10225886106491089, 0.9632545709609985]\n",
            "6/6 [==============================] - 0s 2ms/step - loss: 0.1395 - accuracy: 0.9521\n",
            "Test scores: [0.1394515037536621, 0.9521276354789734]\n"
          ],
          "name": "stdout"
        }
      ]
    },
    {
      "cell_type": "code",
      "metadata": {
        "colab": {
          "base_uri": "https://localhost:8080/",
          "height": 282
        },
        "id": "2ffZD-xjeadD",
        "outputId": "244df31c-5e2c-445a-efe0-a3ab07e3a214"
      },
      "source": [
        "# Plot what's returned by model.fit()\r\n",
        "import matplotlib.pyplot as plt\r\n",
        "plt.plot(r.history['loss'], label = 'Loss')\r\n",
        "plt.plot(r.history['val_loss'], label = 'Val Loss')\r\n",
        "plt.legend()"
      ],
      "execution_count": 25,
      "outputs": [
        {
          "output_type": "execute_result",
          "data": {
            "text/plain": [
              "<matplotlib.legend.Legend at 0x7fc91edb8b00>"
            ]
          },
          "metadata": {
            "tags": []
          },
          "execution_count": 25
        },
        {
          "output_type": "display_data",
          "data": {
            "image/png": "[encoded data removed]",
            "text/plain": [
              "<Figure size 432x288 with 1 Axes>"
            ]
          },
          "metadata": {
            "tags": [],
            "needs_background": "light"
          }
        }
      ]
    },
    {
      "cell_type": "code",
      "metadata": {
        "colab": {
          "base_uri": "https://localhost:8080/",
          "height": 282
        },
        "id": "fuvoSPOsiqyg",
        "outputId": "d841b526-6a96-4fc7-ac4e-9d6b61eb29cb"
      },
      "source": [
        "# Plot the accuracy\r\n",
        "plt.plot(r.history['accuracy'], label = 'Accuracy')\r\n",
        "plt.plot(r.history['val_accuracy'], label = \"Accuracy\")\r\n",
        "plt.legend()"
      ],
      "execution_count": 26,
      "outputs": [
        {
          "output_type": "execute_result",
          "data": {
            "text/plain": [
              "<matplotlib.legend.Legend at 0x7fc91ccb2748>"
            ]
          },
          "metadata": {
            "tags": []
          },
          "execution_count": 26
        },
        {
          "output_type": "display_data",
          "data": {
            "image/png": "[encoded data removed]",
            "text/plain": [
              "<Figure size 432x288 with 1 Axes>"
            ]
          },
          "metadata": {
            "tags": [],
            "needs_background": "light"
          }
        }
      ]
    }
  ]
}